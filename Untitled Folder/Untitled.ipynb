{
 "cells": [
  {
   "cell_type": "code",
   "execution_count": 3,
   "id": "946fad01-40dc-4726-ac35-984aba157eed",
   "metadata": {},
   "outputs": [],
   "source": [
    "import cv2\n",
    "import os"
   ]
  },
  {
   "cell_type": "code",
   "execution_count": 10,
   "id": "60428fe7-bc6c-4d09-9e51-e45ed545678b",
   "metadata": {},
   "outputs": [],
   "source": [
    "def averaging_blurring():\n",
    "    image = cv2.imread('3.jpg')\n",
    "    img_blur = cv2.blur(image, (11, 11))\n",
    "    cv2.imwrite('img_blur.jpg', img_blur)\n",
    "averaging_blurring()"
   ]
  },
  {
   "cell_type": "code",
   "execution_count": 11,
   "id": "56195613-c634-405a-a824-61b740a3da64",
   "metadata": {},
   "outputs": [],
   "source": [
    "def gaussian_blurring():\n",
    "    image = cv2.imread('3.jpg')\n",
    "    img_blur = cv2.GaussianBlur(image, (11, 11), 0)\n",
    "    cv2.imwrite('img_blur.jpg', img_blur)\n",
    "gaussian_blurring()"
   ]
  },
  {
   "cell_type": "code",
   "execution_count": 12,
   "id": "e9ca64bc-730b-43bf-b8c3-8cdc4d3b3f2c",
   "metadata": {},
   "outputs": [],
   "source": [
    "def median_blurring():\n",
    "    image = cv2.imread('3.jpg')\n",
    "    img_blur = cv2.medianBlur(image, 11)\n",
    "    cv2.imwrite('img_blur.jpg', img_blur)\n",
    "median_blurring()"
   ]
  },
  {
   "cell_type": "code",
   "execution_count": 7,
   "id": "25157172-05b2-4fa4-bb78-aad01cefab4c",
   "metadata": {},
   "outputs": [],
   "source": [
    "def find_contours_of_cards(image):\n",
    "    T, mask_img = cv2.threshold(image, 140, 255, cv2.THRESH_BINARY)\n",
    "    cv2.imwrite('mask_img.jpg', mask_img)\n"
   ]
  },
  {
   "cell_type": "code",
   "execution_count": 8,
   "id": "f6e06965-e2cc-47b8-94b6-96429dbdd16b",
   "metadata": {},
   "outputs": [],
   "source": [
    "main_image = cv2.imread('img_blur.JPG')\n",
    "gray_main_image = cv2.cvtColor(main_image, cv2.COLOR_BGR2GRAY)\n",
    "contours = find_contours_of_cards(gray_main_image)\n"
   ]
  },
  {
   "cell_type": "markdown",
   "id": "7e4bfb2b-3791-4755-80c4-6c3ddd55152b",
   "metadata": {},
   "source": [
    "# Алгоритм Canny"
   ]
  },
  {
   "cell_type": "code",
   "execution_count": 5,
   "id": "af238e68-fdae-48f7-bece-6e9a0ee93290",
   "metadata": {},
   "outputs": [],
   "source": [
    "def edge_demo(image):\n",
    "    gray = cv2.cvtColor(image, cv2.COLOR_BGR2GRAY)\n",
    "    # Находим градиент по оси X\n",
    "    grad_x = cv2.Sobel(gray, cv2.CV_16SC1, 1, 0)\n",
    "    # Находим градиент в направлении y\n",
    "    grad_y = cv2.Sobel(gray, cv2.CV_16SC1, 0, 1)\n",
    "    # Преобразуем значение градиента в 8 бит\n",
    "    x_grad = cv2.convertScaleAbs(grad_x)\n",
    "    y_grad = cv2.convertScaleAbs(grad_y)\n",
    "    # Объединить два градиента\n",
    "    src1 = cv2.addWeighted(x_grad, 0.5, y_grad, 0.5, 0)\n",
    "    # Объедините градиенты, используя хитрый алгоритм, где 50 и 100 - пороги \n",
    "    edge = cv2.Canny(src1, 50, 100)\n",
    "    #cv.imshow(\"Canny_edge_1\", edge)\n",
    "    #cv.imwrite('src.jpg', edge)\n",
    "    edge1 = cv2.Canny(grad_x, grad_y, 10, 100)\n",
    "    #cv.imshow(\"Canny_edge_2\", edge1)\n",
    "    #cv.imwrite('src.jpg', edge1)\n",
    "    # Используйте край как маску для выполнения побитовых и побитовых операций\n",
    "    edge2 = cv2.bitwise_and(image, image, mask=edge1)\n",
    "    #cv.imshow(\"bitwise_and\", edge2)\n",
    "    cv2.imwrite('src.jpg', edge2)\n",
    "\n",
    "\n",
    "src = cv2.imread(\"img_blur.jpg\")\n",
    "edge_demo(src)"
   ]
  },
  {
   "cell_type": "markdown",
   "id": "607d7716-d1dd-42c3-a95c-b796b237dd78",
   "metadata": {},
   "source": [
    "# region growing"
   ]
  },
  {
   "cell_type": "code",
   "execution_count": 13,
   "id": "4c95c311-86a9-4730-8cfa-00713851dd1b",
   "metadata": {},
   "outputs": [
    {
     "data": {
      "text/plain": [
       "228"
      ]
     },
     "execution_count": 13,
     "metadata": {},
     "output_type": "execute_result"
    }
   ],
   "source": [
    "import numpy as np\n",
    "import cv2\n",
    " \n",
    "class Point(object):\n",
    "    def __init__(self,x,y):\n",
    "        self.x = x\n",
    "        self.y = y\n",
    "    def getX(self):\n",
    "        return self.x\n",
    "    def getY(self):\n",
    "        return self.y\n",
    "\n",
    "    \n",
    "def getGrayDiff(img,currentPoint,tmpPoint):\n",
    "    return abs(int(img[currentPoint.x,currentPoint.y]) - int(img[tmpPoint.x,tmpPoint.y]))\n",
    " \n",
    "def selectConnects(p):\n",
    "    if p != 0:\n",
    "        connects = [Point(-1, -1), Point(0, -1), Point(1, -1), Point(1, 0), Point(1, 1), \\\n",
    "                    Point(0, 1), Point(-1, 1), Point(-1, 0)]\n",
    "    else:\n",
    "        connects = [ Point(0, -1),  Point(1, 0),Point(0, 1), Point(-1, 0)]\n",
    "    return connects\n",
    " \n",
    "def regionGrow(img,seeds,thresh,p = 1):\n",
    "    height, weight = img.shape\n",
    "    seedMark = np.zeros(img.shape)\n",
    "    seedList = []\n",
    "    for seed in seeds:\n",
    "        seedList.append(seed)\n",
    "    label = 1\n",
    "    connects = selectConnects(p)\n",
    "    while(len(seedList)>0):\n",
    "        currentPoint = seedList.pop(0)\n",
    " \n",
    "        seedMark[currentPoint.x,currentPoint.y] = label\n",
    "        for i in range(8):\n",
    "            tmpX = currentPoint.x + connects[i].x\n",
    "            tmpY = currentPoint.y + connects[i].y\n",
    "            if tmpX < 0 or tmpY < 0 or tmpX >= height or tmpY >= weight:\n",
    "                continue\n",
    "            grayDiff = getGrayDiff(img,currentPoint,Point(tmpX,tmpY))\n",
    "            if grayDiff < thresh and seedMark[tmpX,tmpY] == 0:\n",
    "                seedMark[tmpX,tmpY] = label\n",
    "                seedList.append(Point(tmpX,tmpY))\n",
    "    return seedMark\n",
    "\n",
    "\n",
    "img = cv2.imread('img_blur.jpg',0)\n",
    "seeds = [Point(10,10),Point(82,150),Point(20,300)]\n",
    "binaryImg = regionGrow(img,seeds,10)\n",
    "res_img = cv2.resize(binaryImg, (1200, 900), cv2.INTER_NEAREST)\n",
    "cv2.imshow(' ',res_img)\n",
    "cv2.imwrite('binaryImg.jpg', res_img)\n",
    "cv2.waitKey(0)"
   ]
  },
  {
   "cell_type": "code",
   "execution_count": null,
   "id": "5afe3146-7837-4c79-a880-5bea7ce03a37",
   "metadata": {},
   "outputs": [],
   "source": []
  }
 ],
 "metadata": {
  "kernelspec": {
   "display_name": "Python 3 (ipykernel)",
   "language": "python",
   "name": "python3"
  },
  "language_info": {
   "codemirror_mode": {
    "name": "ipython",
    "version": 3
   },
   "file_extension": ".py",
   "mimetype": "text/x-python",
   "name": "python",
   "nbconvert_exporter": "python",
   "pygments_lexer": "ipython3",
   "version": "3.10.4"
  }
 },
 "nbformat": 4,
 "nbformat_minor": 5
}
